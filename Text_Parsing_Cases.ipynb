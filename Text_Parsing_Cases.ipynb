{
 "cells": [
  {
   "cell_type": "code",
   "execution_count": 1,
   "metadata": {},
   "outputs": [],
   "source": [
    "import pandas as pd\n",
    "import numpy as np\n",
    "from datetime import date\n",
    "from dateparser.search import search_dates\n",
    "import datetime"
   ]
  },
  {
   "cell_type": "code",
   "execution_count": 2,
   "metadata": {},
   "outputs": [],
   "source": [
    "df = pd.read_excel('data.xlsx',dtype=object)"
   ]
  },
  {
   "cell_type": "code",
   "execution_count": 3,
   "metadata": {},
   "outputs": [],
   "source": [
    "df['Date'] = df['Date'].apply(lambda x:x.date())"
   ]
  },
  {
   "cell_type": "code",
   "execution_count": 4,
   "metadata": {},
   "outputs": [
    {
     "data": {
      "text/html": [
       "<div>\n",
       "<style scoped>\n",
       "    .dataframe tbody tr th:only-of-type {\n",
       "        vertical-align: middle;\n",
       "    }\n",
       "\n",
       "    .dataframe tbody tr th {\n",
       "        vertical-align: top;\n",
       "    }\n",
       "\n",
       "    .dataframe thead th {\n",
       "        text-align: right;\n",
       "    }\n",
       "</style>\n",
       "<table border=\"1\" class=\"dataframe\">\n",
       "  <thead>\n",
       "    <tr style=\"text-align: right;\">\n",
       "      <th></th>\n",
       "      <th>Date</th>\n",
       "      <th>Cases</th>\n",
       "    </tr>\n",
       "  </thead>\n",
       "  <tbody>\n",
       "    <tr>\n",
       "      <th>0</th>\n",
       "      <td>2020-01-01</td>\n",
       "      <td>2</td>\n",
       "    </tr>\n",
       "    <tr>\n",
       "      <th>1</th>\n",
       "      <td>2020-01-02</td>\n",
       "      <td>4</td>\n",
       "    </tr>\n",
       "    <tr>\n",
       "      <th>2</th>\n",
       "      <td>2020-01-03</td>\n",
       "      <td>5</td>\n",
       "    </tr>\n",
       "    <tr>\n",
       "      <th>3</th>\n",
       "      <td>2020-01-04</td>\n",
       "      <td>1</td>\n",
       "    </tr>\n",
       "    <tr>\n",
       "      <th>4</th>\n",
       "      <td>2020-01-05</td>\n",
       "      <td>0</td>\n",
       "    </tr>\n",
       "    <tr>\n",
       "      <th>5</th>\n",
       "      <td>2020-01-06</td>\n",
       "      <td>7</td>\n",
       "    </tr>\n",
       "    <tr>\n",
       "      <th>6</th>\n",
       "      <td>2020-01-07</td>\n",
       "      <td>0</td>\n",
       "    </tr>\n",
       "    <tr>\n",
       "      <th>7</th>\n",
       "      <td>2020-01-08</td>\n",
       "      <td>7</td>\n",
       "    </tr>\n",
       "    <tr>\n",
       "      <th>8</th>\n",
       "      <td>2020-01-09</td>\n",
       "      <td>6</td>\n",
       "    </tr>\n",
       "    <tr>\n",
       "      <th>9</th>\n",
       "      <td>2020-01-10</td>\n",
       "      <td>0</td>\n",
       "    </tr>\n",
       "    <tr>\n",
       "      <th>10</th>\n",
       "      <td>2020-01-11</td>\n",
       "      <td>3</td>\n",
       "    </tr>\n",
       "    <tr>\n",
       "      <th>11</th>\n",
       "      <td>2020-01-12</td>\n",
       "      <td>0</td>\n",
       "    </tr>\n",
       "    <tr>\n",
       "      <th>12</th>\n",
       "      <td>2020-01-13</td>\n",
       "      <td>2</td>\n",
       "    </tr>\n",
       "    <tr>\n",
       "      <th>13</th>\n",
       "      <td>2020-01-14</td>\n",
       "      <td>4</td>\n",
       "    </tr>\n",
       "    <tr>\n",
       "      <th>14</th>\n",
       "      <td>2020-01-15</td>\n",
       "      <td>5</td>\n",
       "    </tr>\n",
       "    <tr>\n",
       "      <th>15</th>\n",
       "      <td>2020-01-16</td>\n",
       "      <td>0</td>\n",
       "    </tr>\n",
       "    <tr>\n",
       "      <th>16</th>\n",
       "      <td>2020-01-17</td>\n",
       "      <td>2</td>\n",
       "    </tr>\n",
       "    <tr>\n",
       "      <th>17</th>\n",
       "      <td>2020-01-18</td>\n",
       "      <td>2</td>\n",
       "    </tr>\n",
       "    <tr>\n",
       "      <th>18</th>\n",
       "      <td>2020-01-19</td>\n",
       "      <td>4</td>\n",
       "    </tr>\n",
       "    <tr>\n",
       "      <th>19</th>\n",
       "      <td>2020-01-20</td>\n",
       "      <td>5</td>\n",
       "    </tr>\n",
       "    <tr>\n",
       "      <th>20</th>\n",
       "      <td>2020-01-21</td>\n",
       "      <td>6</td>\n",
       "    </tr>\n",
       "    <tr>\n",
       "      <th>21</th>\n",
       "      <td>2020-01-22</td>\n",
       "      <td>2</td>\n",
       "    </tr>\n",
       "    <tr>\n",
       "      <th>22</th>\n",
       "      <td>2020-01-23</td>\n",
       "      <td>4</td>\n",
       "    </tr>\n",
       "    <tr>\n",
       "      <th>23</th>\n",
       "      <td>2020-01-24</td>\n",
       "      <td>5</td>\n",
       "    </tr>\n",
       "    <tr>\n",
       "      <th>24</th>\n",
       "      <td>2020-01-25</td>\n",
       "      <td>8</td>\n",
       "    </tr>\n",
       "    <tr>\n",
       "      <th>25</th>\n",
       "      <td>2020-01-26</td>\n",
       "      <td>2</td>\n",
       "    </tr>\n",
       "    <tr>\n",
       "      <th>26</th>\n",
       "      <td>2020-01-27</td>\n",
       "      <td>4</td>\n",
       "    </tr>\n",
       "    <tr>\n",
       "      <th>27</th>\n",
       "      <td>2020-01-28</td>\n",
       "      <td>5</td>\n",
       "    </tr>\n",
       "    <tr>\n",
       "      <th>28</th>\n",
       "      <td>2020-01-29</td>\n",
       "      <td>3</td>\n",
       "    </tr>\n",
       "    <tr>\n",
       "      <th>29</th>\n",
       "      <td>2020-01-30</td>\n",
       "      <td>2</td>\n",
       "    </tr>\n",
       "    <tr>\n",
       "      <th>30</th>\n",
       "      <td>2020-01-31</td>\n",
       "      <td>4</td>\n",
       "    </tr>\n",
       "  </tbody>\n",
       "</table>\n",
       "</div>"
      ],
      "text/plain": [
       "          Date Cases\n",
       "0   2020-01-01     2\n",
       "1   2020-01-02     4\n",
       "2   2020-01-03     5\n",
       "3   2020-01-04     1\n",
       "4   2020-01-05     0\n",
       "5   2020-01-06     7\n",
       "6   2020-01-07     0\n",
       "7   2020-01-08     7\n",
       "8   2020-01-09     6\n",
       "9   2020-01-10     0\n",
       "10  2020-01-11     3\n",
       "11  2020-01-12     0\n",
       "12  2020-01-13     2\n",
       "13  2020-01-14     4\n",
       "14  2020-01-15     5\n",
       "15  2020-01-16     0\n",
       "16  2020-01-17     2\n",
       "17  2020-01-18     2\n",
       "18  2020-01-19     4\n",
       "19  2020-01-20     5\n",
       "20  2020-01-21     6\n",
       "21  2020-01-22     2\n",
       "22  2020-01-23     4\n",
       "23  2020-01-24     5\n",
       "24  2020-01-25     8\n",
       "25  2020-01-26     2\n",
       "26  2020-01-27     4\n",
       "27  2020-01-28     5\n",
       "28  2020-01-29     3\n",
       "29  2020-01-30     2\n",
       "30  2020-01-31     4"
      ]
     },
     "execution_count": 4,
     "metadata": {},
     "output_type": "execute_result"
    }
   ],
   "source": [
    "df"
   ]
  },
  {
   "cell_type": "code",
   "execution_count": 31,
   "metadata": {},
   "outputs": [],
   "source": [
    "def text_parsing(text):\n",
    "    curr_time = datetime.datetime.now()\n",
    "    curr_time = curr_time.date()\n",
    "    text_data = text\n",
    "    text_data = text_data.replace('me','')\n",
    "    date_present = search_dates(text_data)\n",
    "    count= 0\n",
    "\n",
    "    # check for date found in text \n",
    "    if date_present is not None:\n",
    "\n",
    "        # single date mentioned \n",
    "        if len(date_present) == 1:\n",
    "            \n",
    "            Date_txt_1 = date_present[0][0]\n",
    "            date_1 = date_present[0][1].date()\n",
    "            #check for data in our record\n",
    "            check_date_1 = date_1 in list(df['Date'])\n",
    "            \n",
    "            if check_date_1:\n",
    "                index_1 = (df[df['Date']==date_1].index)[0]\n",
    "                # check for particular day or not \n",
    "                if 'at' in Date_txt_1.split(' ') or 'on' in Date_txt_1.split(' '):\n",
    "                    count = df['Cases'][index_1]\n",
    "                    print('The count of number of cases on Date {} is {} '.format(date_1,count))\n",
    "                else:  \n",
    "                    index_2 = 0\n",
    "                    count = df['Cases'][min(index_1,index_2):max(index_1,index_2)+1].sum()\n",
    "                    print('The count of number of cases till Date {} is {} '.format(date_1,count))\n",
    "\n",
    "            else:\n",
    "                \n",
    "                if date_1 >= df['Date'][0]:\n",
    "                    index_1 = 0\n",
    "                    index_2 = len(df) - 1\n",
    "                    count = df['Cases'][min(index_1,index_2):max(index_1,index_2)+1].sum()\n",
    "                    print('The count of number of cases till Date {} is {} '.format(date_1,count))\n",
    "                else:\n",
    "                    print('Dates not found in our record !!!! for given date ',date_1)\n",
    "                    \n",
    "\n",
    "        # two dates found         \n",
    "        if len(date_present) == 2:\n",
    "            Date_txt_1 = date_present[0][0]\n",
    "            date_1 = date_present[0][1].date()\n",
    "            Date_txt_1 = date_present[1][0]\n",
    "            date_2 = date_present[1][1].date()\n",
    "\n",
    "            # check for both dates present in our records or not # BOOL Values\n",
    "            check_date_1 = date_1 in list(df['Date'])\n",
    "            check_date_2 = date_2 in list(df['Date'])\n",
    "\n",
    "\n",
    "            if check_date_1 and check_date_2:\n",
    "                index_1 = (df[df['Date']==date_1].index)[0]\n",
    "                index_2 = (df[df['Date']==date_2].index)[0]\n",
    "                count = df['Cases'][min(index_1,index_2):max(index_1,index_2)+1].sum()\n",
    "                print('Both the dates {} and {}  are present in our record '.format(date_1,date_2))\n",
    "                print('\\n')\n",
    "                print('The count of number of cases from dates {} to {} are {} '.format(date_1,date_2 ,count))\n",
    "\n",
    "\n",
    "            # checking for any one date matching in our record or none records\n",
    "            elif check_date_1:\n",
    "                print('One of Date Matched for our record !!!')\n",
    "                print('{} date matches but {} date does not matches in our record'.format(date_1,date_2) )\n",
    "                index_1 = (df[df['Date']==date_1].index)[0]\n",
    "                index_2 = 0\n",
    "                count = df['Cases'][min(index_1,index_2):max(index_1,index_2)+1].sum()\n",
    "                print('\\n')\n",
    "                print('The count of number of cases till matched date {} is {}'.format(date_1,count))\n",
    "\n",
    "            elif check_date_2:\n",
    "                print('One of Date Matched for our record !!!')\n",
    "                print('{} date matches but {} date does not matches in our record '.format(date_2,date_1) )\n",
    "                index_1 = (df[df['Date']==date_2].index)[0]\n",
    "                index_2 = 0\n",
    "                count = df['Cases'][min(index_1,index_2):max(index_1,index_2)+1].sum()\n",
    "                print('\\n')\n",
    "                print('The count of number of cases till matched date {} is {}'.format(date_2,count))\n",
    "\n",
    "            else:\n",
    "                print('Dates not found in our record !!!! for {} and {} '.format(date_1,date_2))\n",
    "\n",
    "\n",
    "        elif len(date_present) > 2:\n",
    "            print('More than two date found.Please check !!!')\n",
    "\n",
    "    else:\n",
    "        print(\"NO DATE FOUND\")\n",
    "        \n"
   ]
  },
  {
   "cell_type": "code",
   "execution_count": null,
   "metadata": {},
   "outputs": [],
   "source": []
  },
  {
   "cell_type": "markdown",
   "metadata": {},
   "source": [
    "# Single Dates \n",
    "\n",
    "* On Particular Date\n",
    "* Till that Date"
   ]
  },
  {
   "cell_type": "code",
   "execution_count": 53,
   "metadata": {},
   "outputs": [
    {
     "name": "stdout",
     "output_type": "stream",
     "text": [
      "The count of number of cases on Date 2020-01-21 is 6 \n"
     ]
    }
   ],
   "source": [
    "text_parsing(' What are the number of cases at 21 jan')"
   ]
  },
  {
   "cell_type": "code",
   "execution_count": 41,
   "metadata": {},
   "outputs": [
    {
     "name": "stdout",
     "output_type": "stream",
     "text": [
      "The count of number of cases on Date 2020-01-21 is 6 \n"
     ]
    }
   ],
   "source": [
    "text_parsing(' What are the number of cases at 21 jan')"
   ]
  },
  {
   "cell_type": "code",
   "execution_count": 23,
   "metadata": {},
   "outputs": [
    {
     "name": "stdout",
     "output_type": "stream",
     "text": [
      "The count of number of cases on Date 2020-01-21 is 6 \n"
     ]
    }
   ],
   "source": [
    "text_parsing(' What are the number of cases on 21 january')"
   ]
  },
  {
   "cell_type": "code",
   "execution_count": 24,
   "metadata": {},
   "outputs": [
    {
     "name": "stdout",
     "output_type": "stream",
     "text": [
      "The count of number of cases on Date 2020-01-21 is 6 \n"
     ]
    }
   ],
   "source": [
    "text_parsing(' What are the number of cases on 21 january 20')"
   ]
  },
  {
   "cell_type": "code",
   "execution_count": 25,
   "metadata": {},
   "outputs": [
    {
     "name": "stdout",
     "output_type": "stream",
     "text": [
      "Dates not found in our record !!!! for given date  2019-01-21\n"
     ]
    }
   ],
   "source": [
    "text_parsing(' What are the number of cases on 21 january 19')"
   ]
  },
  {
   "cell_type": "code",
   "execution_count": 26,
   "metadata": {},
   "outputs": [
    {
     "name": "stdout",
     "output_type": "stream",
     "text": [
      "The count of number of cases on Date 2020-01-21 is 6 \n"
     ]
    }
   ],
   "source": [
    "text_parsing(' What are the number of cases on 21-01')"
   ]
  },
  {
   "cell_type": "code",
   "execution_count": 27,
   "metadata": {},
   "outputs": [
    {
     "name": "stdout",
     "output_type": "stream",
     "text": [
      "The count of number of cases on Date 2020-01-21 is 6 \n"
     ]
    }
   ],
   "source": [
    "text_parsing(' What are the number of cases on 21/01/20')"
   ]
  },
  {
   "cell_type": "code",
   "execution_count": 35,
   "metadata": {},
   "outputs": [
    {
     "name": "stdout",
     "output_type": "stream",
     "text": [
      "The count of number of cases till Date 2020-03-21 is 104 \n"
     ]
    }
   ],
   "source": [
    "text_parsing(' What are the number of cases on 21st')"
   ]
  },
  {
   "cell_type": "code",
   "execution_count": 36,
   "metadata": {},
   "outputs": [
    {
     "name": "stdout",
     "output_type": "stream",
     "text": [
      "The count of number of cases till Date 2020-02-21 is 104 \n"
     ]
    }
   ],
   "source": [
    "text_parsing(' What are the number of cases on 21st feb')"
   ]
  },
  {
   "cell_type": "code",
   "execution_count": 37,
   "metadata": {},
   "outputs": [
    {
     "name": "stdout",
     "output_type": "stream",
     "text": [
      "Dates not found in our record !!!! for given date  2019-02-21\n"
     ]
    }
   ],
   "source": [
    "text_parsing(' What are the number of cases on 21st feb 19')"
   ]
  },
  {
   "cell_type": "code",
   "execution_count": 39,
   "metadata": {},
   "outputs": [
    {
     "name": "stdout",
     "output_type": "stream",
     "text": [
      "The count of number of cases till Date 2020-03-12 is 104 \n"
     ]
    }
   ],
   "source": [
    "text_parsing(' please send the cases till now ')"
   ]
  },
  {
   "cell_type": "code",
   "execution_count": 40,
   "metadata": {},
   "outputs": [
    {
     "name": "stdout",
     "output_type": "stream",
     "text": [
      "The count of number of cases till Date 2020-03-12 is 104 \n"
     ]
    }
   ],
   "source": [
    "text_parsing(' please send the cases till today ')"
   ]
  },
  {
   "cell_type": "code",
   "execution_count": 49,
   "metadata": {},
   "outputs": [
    {
     "name": "stdout",
     "output_type": "stream",
     "text": [
      "The count of number of cases till Date 2020-01-12 is 35 \n"
     ]
    }
   ],
   "source": [
    "text_parsing(' twelve january')"
   ]
  },
  {
   "cell_type": "code",
   "execution_count": 50,
   "metadata": {},
   "outputs": [
    {
     "name": "stdout",
     "output_type": "stream",
     "text": [
      "The count of number of cases till Date 2020-08-12 is 104 \n"
     ]
    }
   ],
   "source": [
    "text_parsing(' twelve aug')"
   ]
  },
  {
   "cell_type": "code",
   "execution_count": 51,
   "metadata": {},
   "outputs": [
    {
     "name": "stdout",
     "output_type": "stream",
     "text": [
      "The count of number of cases till Date 2020-12-12 is 104 \n"
     ]
    }
   ],
   "source": [
    "text_parsing(' twelve dec')"
   ]
  },
  {
   "cell_type": "code",
   "execution_count": 60,
   "metadata": {},
   "outputs": [
    {
     "name": "stdout",
     "output_type": "stream",
     "text": [
      "One of Date Matched for our record !!!\n",
      "2020-01-15 date matches but 2021-01-31 date does not matches in our record\n",
      "\n",
      "\n",
      "The count of number of cases till matched date 2020-01-15 is 46\n"
     ]
    }
   ],
   "source": [
    "text_parsing('show me number of cases  between 15 jan to 31 jan 21')"
   ]
  },
  {
   "cell_type": "code",
   "execution_count": null,
   "metadata": {},
   "outputs": [],
   "source": []
  },
  {
   "cell_type": "markdown",
   "metadata": {},
   "source": [
    "# Two Dates "
   ]
  },
  {
   "cell_type": "code",
   "execution_count": 7,
   "metadata": {},
   "outputs": [
    {
     "name": "stdout",
     "output_type": "stream",
     "text": [
      "Both the dates 2020-01-02 and 2020-01-15  are present in our record \n",
      "\n",
      "\n",
      "The count of number of cases for dates 2020-01-02 and 2020-01-15 are 44 \n"
     ]
    }
   ],
   "source": [
    "text_parsing(' what are the number of cases between 2nd jan to 15th jan 2020')"
   ]
  },
  {
   "cell_type": "code",
   "execution_count": 42,
   "metadata": {},
   "outputs": [
    {
     "name": "stdout",
     "output_type": "stream",
     "text": [
      "One of Date Matched for our record !!!\n",
      "2020-01-02 date matches but 2021-01-15 date does not matches in our record\n",
      "\n",
      "\n",
      "The count of number of cases till matched date 2020-01-02 is 6\n"
     ]
    }
   ],
   "source": [
    "text_parsing(' what are the number of cases between 2nd jan to 15th jan 2021')"
   ]
  },
  {
   "cell_type": "code",
   "execution_count": 54,
   "metadata": {},
   "outputs": [
    {
     "name": "stdout",
     "output_type": "stream",
     "text": [
      "More than two date found.Please check !!!\n"
     ]
    }
   ],
   "source": [
    "text_parsing(' what are the number of cases between 2 jan18 to 15th jan 2021 15 aug')"
   ]
  },
  {
   "cell_type": "code",
   "execution_count": null,
   "metadata": {},
   "outputs": [],
   "source": []
  },
  {
   "cell_type": "code",
   "execution_count": null,
   "metadata": {},
   "outputs": [],
   "source": []
  },
  {
   "cell_type": "code",
   "execution_count": null,
   "metadata": {},
   "outputs": [],
   "source": []
  },
  {
   "cell_type": "code",
   "execution_count": null,
   "metadata": {},
   "outputs": [],
   "source": []
  },
  {
   "cell_type": "code",
   "execution_count": null,
   "metadata": {},
   "outputs": [],
   "source": []
  },
  {
   "cell_type": "code",
   "execution_count": null,
   "metadata": {},
   "outputs": [],
   "source": []
  },
  {
   "cell_type": "code",
   "execution_count": null,
   "metadata": {},
   "outputs": [],
   "source": []
  },
  {
   "cell_type": "code",
   "execution_count": null,
   "metadata": {},
   "outputs": [],
   "source": []
  },
  {
   "cell_type": "code",
   "execution_count": null,
   "metadata": {},
   "outputs": [],
   "source": []
  },
  {
   "cell_type": "code",
   "execution_count": null,
   "metadata": {},
   "outputs": [],
   "source": []
  },
  {
   "cell_type": "code",
   "execution_count": null,
   "metadata": {},
   "outputs": [],
   "source": []
  },
  {
   "cell_type": "code",
   "execution_count": null,
   "metadata": {},
   "outputs": [],
   "source": []
  },
  {
   "cell_type": "code",
   "execution_count": null,
   "metadata": {},
   "outputs": [],
   "source": []
  },
  {
   "cell_type": "code",
   "execution_count": null,
   "metadata": {},
   "outputs": [],
   "source": []
  },
  {
   "cell_type": "code",
   "execution_count": 16,
   "metadata": {},
   "outputs": [
    {
     "data": {
      "text/plain": [
       "datetime.datetime(2020, 1, 21, 0, 0)"
      ]
     },
     "execution_count": 16,
     "metadata": {},
     "output_type": "execute_result"
    }
   ],
   "source": [
    "search_dates('what are the number of cases will be on 21st jan')[0][1]"
   ]
  },
  {
   "cell_type": "code",
   "execution_count": null,
   "metadata": {},
   "outputs": [],
   "source": []
  },
  {
   "cell_type": "code",
   "execution_count": null,
   "metadata": {},
   "outputs": [],
   "source": []
  },
  {
   "cell_type": "code",
   "execution_count": null,
   "metadata": {},
   "outputs": [],
   "source": []
  },
  {
   "cell_type": "code",
   "execution_count": null,
   "metadata": {},
   "outputs": [],
   "source": []
  },
  {
   "cell_type": "code",
   "execution_count": null,
   "metadata": {},
   "outputs": [],
   "source": []
  },
  {
   "cell_type": "code",
   "execution_count": null,
   "metadata": {},
   "outputs": [],
   "source": []
  },
  {
   "cell_type": "code",
   "execution_count": null,
   "metadata": {},
   "outputs": [],
   "source": []
  },
  {
   "cell_type": "code",
   "execution_count": null,
   "metadata": {},
   "outputs": [],
   "source": []
  },
  {
   "cell_type": "code",
   "execution_count": null,
   "metadata": {},
   "outputs": [],
   "source": []
  },
  {
   "cell_type": "code",
   "execution_count": 49,
   "metadata": {},
   "outputs": [
    {
     "data": {
      "text/plain": [
       "14"
      ]
     },
     "execution_count": 49,
     "metadata": {},
     "output_type": "execute_result"
    }
   ],
   "source": [
    "index_1 = (df[df['Date']==date_2].index)[0]\n",
    "index_1\n",
    "index_2 = df[0]"
   ]
  },
  {
   "cell_type": "code",
   "execution_count": 50,
   "metadata": {},
   "outputs": [
    {
     "name": "stdout",
     "output_type": "stream",
     "text": [
      "One of Date Matched for our record !!!\n",
      "2020-01-15 date matches but 2020-02-11 date does not matches in our record \n",
      "The count of number of cases for matched date 2020-01-15 is 46\n"
     ]
    }
   ],
   "source": [
    "text = ' what are the number of cases between 2nd januaries to 15th jan 2020'\n",
    "curr_time = datetime.datetime.now()\n",
    "\n",
    "curr_time = curr_time.date()\n",
    "text_data = text\n",
    "text_data = text_data.replace('me','')\n",
    "date_present = search_dates(text_data)\n",
    "count= 0\n",
    "\n",
    "# check for date found in text \n",
    "if date_present is not None:\n",
    "\n",
    "    # single date mentioned \n",
    "    if len(date_present) == 1:\n",
    "\n",
    "        Date_txt_1 = date_present[0][0]\n",
    "        date_1 = date_present[0][1].date()\n",
    "        #check for data in our record\n",
    "        check_date_1 = date_1 in list(df['Date'])\n",
    "\n",
    "        if check_date_1:\n",
    "            index_1 = (df[df['Date']==date_1].index)[0]\n",
    "            # check for particular day or not \n",
    "            if 'at' in Date_txt_1.split(' ') or 'on' in Date_txt_1.split(' '):\n",
    "                count = df['Cases'][index_1]\n",
    "                print('The count of number of cases on Date {} is {} -->'.format(date_1,count))\n",
    "            else:  \n",
    "                index_2 = 0\n",
    "                count = df['Cases'][min(index_1,index_2):max(index_1,index_2)+1].sum()\n",
    "                print('The count of number of cases till Date {} is {} '.format(date_1,count))\n",
    "\n",
    "        else:\n",
    "\n",
    "            if curr_time > df['Date'].iloc[-1]:\n",
    "                index_1 = 0\n",
    "                index_2 = len(df) - 1\n",
    "                count = df['Cases'][min(index_1,index_2):max(index_1,index_2)+1].sum()\n",
    "                print('The count of number of cases till Date {} is {} '.format(date_1,count))\n",
    "            else:\n",
    "                print('Dates not found in our record !!!! for ',date_1)\n",
    "\n",
    "\n",
    "    # two dates found         \n",
    "    if len(date_present) == 2:\n",
    "        Date_txt_1 = date_present[0][0]\n",
    "        date_1 = date_present[0][1].date()\n",
    "        Date_txt_1 = date_present[1][0]\n",
    "        date_2 = date_present[1][1].date()\n",
    "\n",
    "        # check for both dates present in our records or not # BOOL Values\n",
    "        check_date_1 = date_1 in list(df['Date'])\n",
    "        check_date_2 = date_2 in list(df['Date'])\n",
    "\n",
    "\n",
    "        if check_date_1 and check_date_2:\n",
    "            index_1 = (df[df['Date']==date_1].index)[0]\n",
    "            index_2 = (df[df['Date']==date_2].index)[0]\n",
    "            count = df['Cases'][min(index_1,index_2):max(index_1,index_2)+1].sum()\n",
    "            print('Both the dates {} and {}  are present in our record '.format(date_1,date_2))\n",
    "            print('\\n')\n",
    "            print('The count of number of cases for dates {} and {} are {} '.format(date_1,date_2 ,count))\n",
    "\n",
    "\n",
    "        # checking for any one date matching in our record or none records\n",
    "        elif check_date_1:\n",
    "            print('One of Date Matched for our record !!!')\n",
    "            print('{} date matches but {} date does not matches in our record'.format(date_1,date_2) )\n",
    "            index_1 = (df[df['Date']==date_1].index)[0]\n",
    "            index_2 = 0\n",
    "            count = df['Cases'][min(index_1,index_2):max(index_1,index_2)+1].sum()\n",
    "            print('\\n')\n",
    "            print('The count of number of cases for matched date {} is {}'.format(date_1,count))\n",
    "\n",
    "        elif check_date_2:\n",
    "            print('One of Date Matched for our record !!!')\n",
    "            print('{} date matches but {} date does not matches in our record '.format(date_2,date_1) )\n",
    "            index_1 = (df[df['Date']==date_2].index)[0]\n",
    "            index_2 = 0\n",
    "            count = df['Cases'][min(index_1,index_2):max(index_1,index_2)+1].sum()\n",
    "            print('The count of number of cases for matched date {} is {}'.format(date_2,count))\n",
    "\n",
    "        else:\n",
    "            print('Dates not found in our record !!!! for {} and {} '.format(date_1,date_2))\n",
    "\n",
    "\n",
    "    elif len(date_present) > 2:\n",
    "        print('More than two date found.Please check !!!')\n",
    "\n",
    "else:\n",
    "    print(\"NO DATE FOUND\")"
   ]
  },
  {
   "cell_type": "code",
   "execution_count": null,
   "metadata": {},
   "outputs": [],
   "source": []
  },
  {
   "cell_type": "code",
   "execution_count": null,
   "metadata": {},
   "outputs": [],
   "source": []
  },
  {
   "cell_type": "code",
   "execution_count": null,
   "metadata": {},
   "outputs": [],
   "source": []
  },
  {
   "cell_type": "code",
   "execution_count": null,
   "metadata": {},
   "outputs": [],
   "source": []
  },
  {
   "cell_type": "code",
   "execution_count": null,
   "metadata": {},
   "outputs": [],
   "source": []
  },
  {
   "cell_type": "code",
   "execution_count": null,
   "metadata": {},
   "outputs": [],
   "source": []
  },
  {
   "cell_type": "code",
   "execution_count": null,
   "metadata": {},
   "outputs": [],
   "source": []
  },
  {
   "cell_type": "code",
   "execution_count": null,
   "metadata": {},
   "outputs": [],
   "source": []
  },
  {
   "cell_type": "code",
   "execution_count": null,
   "metadata": {},
   "outputs": [],
   "source": []
  },
  {
   "cell_type": "code",
   "execution_count": null,
   "metadata": {},
   "outputs": [],
   "source": []
  },
  {
   "cell_type": "code",
   "execution_count": null,
   "metadata": {},
   "outputs": [],
   "source": []
  },
  {
   "cell_type": "code",
   "execution_count": null,
   "metadata": {},
   "outputs": [],
   "source": []
  },
  {
   "cell_type": "code",
   "execution_count": null,
   "metadata": {},
   "outputs": [],
   "source": []
  },
  {
   "cell_type": "code",
   "execution_count": null,
   "metadata": {},
   "outputs": [],
   "source": []
  },
  {
   "cell_type": "code",
   "execution_count": null,
   "metadata": {},
   "outputs": [],
   "source": []
  },
  {
   "cell_type": "code",
   "execution_count": null,
   "metadata": {},
   "outputs": [],
   "source": []
  },
  {
   "cell_type": "code",
   "execution_count": null,
   "metadata": {},
   "outputs": [],
   "source": []
  },
  {
   "cell_type": "code",
   "execution_count": null,
   "metadata": {},
   "outputs": [],
   "source": []
  },
  {
   "cell_type": "code",
   "execution_count": null,
   "metadata": {},
   "outputs": [],
   "source": []
  }
 ],
 "metadata": {
  "kernelspec": {
   "display_name": "Python 3",
   "language": "python",
   "name": "python3"
  },
  "language_info": {
   "codemirror_mode": {
    "name": "ipython",
    "version": 3
   },
   "file_extension": ".py",
   "mimetype": "text/x-python",
   "name": "python",
   "nbconvert_exporter": "python",
   "pygments_lexer": "ipython3",
   "version": "3.6.5"
  }
 },
 "nbformat": 4,
 "nbformat_minor": 4
}
